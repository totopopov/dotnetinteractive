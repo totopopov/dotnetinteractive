{
 "cells": [
  {
   "cell_type": "code",
   "execution_count": 2,
   "id": "cff87eb3-816f-46eb-8e61-33a7ea64d65f",
   "metadata": {
    "editable": true,
    "slideshow": {
     "slide_type": ""
    },
    "tags": [],
    "vscode": {
     "languageId": "csharp"
    }
   },
   "outputs": [
    {
     "name": "stdout",
     "output_type": "stream",
     "text": [
      "Hello\n"
     ]
    }
   ],
   "source": [
    "Console.WriteLine(\"Hello\");"
   ]
  },
  {
   "cell_type": "markdown",
   "id": "edc155d8-6843-4b21-a1b1-103471c59c22",
   "metadata": {
    "jp-MarkdownHeadingCollapsed": true
   },
   "source": [
    "# What is a notebook?"
   ]
  },
  {
   "cell_type": "markdown",
   "id": "fbddece8-298b-4ed8-b59f-bb49a6111591",
   "metadata": {
    "jp-MarkdownHeadingCollapsed": true
   },
   "source": [
    "A **computational notebook** is a program that lets you combine formatted text and executable code within a single document.\n",
    "This approach is an example of **[literate programming](https://en.wikipedia.org/wiki/Literate_programming)**. \n",
    "```\n",
    "The literate programming paradigm, as conceived by Donald Knuth, represents a move away from writing computer programs in the manner and order imposed by the compiler, and instead gives programmers macros to develop programs in the order demanded by the logic and flow of their thoughts.\n",
    "```\n",
    "Notebooks are divided into _cells_, typically of three types:\n",
    "\n",
    "1. **Code cells**: Contain runnable code.\n",
    "2. **Output cells**: Display the result of the last execution from the associated code cell.\n",
    "3. **Markdown cells**: Contain richly formatted (but static) text, including hyperlinks, images, diagrams, etc."
   ]
  },
  {
   "cell_type": "markdown",
   "id": "dc019be2-f8b0-4aee-9f46-4e0de78161f2",
   "metadata": {
    "jp-MarkdownHeadingCollapsed": true
   },
   "source": [
    "# What Is Jupyter Notebook?\n"
   ]
  },
  {
   "cell_type": "markdown",
   "id": "d6bfdd78-e1f8-40ca-b684-537659eec998",
   "metadata": {},
   "source": [
    "- **Jupyter Notebook** is a browser-based user interface (\"frontend\") from Project Jupyter that edits and runs notebooks (using the `.ipynb` file format) via a Jupyter kernel.\n",
    "- **JupyterLab** is another browser-based frontend for Jupyter kernels, similar to Jupyter Notebook but more extensible and feature-rich.\n",
    "- **nteract Desktop**\n",
    "- **Jupyter Extension** for VS Code and GitHub Codespaces"
   ]
  },
  {
   "cell_type": "markdown",
   "id": "102a7d0e-6f20-4f20-8374-088d6dfb106f",
   "metadata": {
    "jp-MarkdownHeadingCollapsed": true
   },
   "source": [
    "# What Is a Kernel?"
   ]
  },
  {
   "cell_type": "markdown",
   "id": "cbaf9330-7529-4942-be46-3c9820286d1f",
   "metadata": {},
   "source": [
    "A **kernel** is the execution engine for a notebook. It processes code sent by the frontend and returns the results. \n",
    "    Typically, the kernel runs in a separate process (and can even be on a separate machine)."
   ]
  },
  {
   "cell_type": "markdown",
   "id": "1a2791b5-f6b6-4e61-a02e-1fd6bb91f677",
   "metadata": {
    "jp-MarkdownHeadingCollapsed": true
   },
   "source": [
    "# What Is .NET Interactive?"
   ]
  },
  {
   "cell_type": "markdown",
   "id": "7df103d2-70a1-4b09-8baa-2c344991d7af",
   "metadata": {},
   "source": [
    "**.NET Interactive** is a .NET tool (`dotnet-interactive`) that provides a general-purpose engine for interactive programming. It:\n",
    "\n",
    "- Has no built-in graphical interface—various notebook frontends can be used.\n",
    "- Supports multiple languages (C#, F#, PowerShell, JavaScript, and more).\n",
    "- Can load additional language support (e.g., SQL, Python).\n",
    "- Can be run in different modes, including Jupyter kernel mode."
   ]
  },
  {
   "cell_type": "markdown",
   "id": "673e11f1-97b8-4f0c-b7a5-9623e4571336",
   "metadata": {
    "jp-MarkdownHeadingCollapsed": true
   },
   "source": [
    "# Jupyter high level"
   ]
  },
  {
   "cell_type": "markdown",
   "id": "980cc86a-c893-4cf8-97f1-bf15f7463df6",
   "metadata": {},
   "source": [
    "![image](images/Kernel-architecture.webp)"
   ]
  },
  {
   "cell_type": "markdown",
   "id": "75fb2cf5-4d62-4ce4-855f-4bdf1390240a",
   "metadata": {
    "jp-MarkdownHeadingCollapsed": true
   },
   "source": [
    "# .Net Interactive high level"
   ]
  },
  {
   "cell_type": "markdown",
   "id": "d3bce738-b89a-4b48-9a03-456998f8f002",
   "metadata": {},
   "source": [
    "![image](images/interactive-architecture.webp)"
   ]
  },
  {
   "cell_type": "markdown",
   "id": "3f644db9-e18d-4f2a-892f-a24cf252aea3",
   "metadata": {
    "jp-MarkdownHeadingCollapsed": true
   },
   "source": [
    "# Setting it Up"
   ]
  },
  {
   "cell_type": "markdown",
   "id": "50c4cbf7-c8b3-4978-81a5-d671d0891a58",
   "metadata": {
    "jp-MarkdownHeadingCollapsed": true
   },
   "source": [
    "## Installing through conda and Jupyter\n",
    "\n",
    "More or less the following guide follows the [official one](https://github.com/dotnet/interactive/blob/main/docs/NotebookswithJupyter.md\n",
    ") with some additional notes:\n",
    "\n",
    "\n",
    "### 1. Install conda\n",
    "\n",
    "1. **Install Miniconda:**\n",
    "   - Download and install Miniconda from the official [website](https://docs.anaconda.com/free/miniconda/index.html).\n",
    "   - Once installed you will be able to open the miniconda terminal.\n",
    "\n",
    "3. **Create a New Environment:**\n",
    "   In the Anaconda Prompt (miniconda) terminal\n",
    "   ```bash\n",
    "   conda create --name dotnetinteractive python=3.13\n",
    "   ```\n",
    "   This command creates a new environment named dotnetinteractive with Python version 3.13.\n",
    "\n",
    "4. **Activate Environment and install jupyter** \n",
    "   ```bash\n",
    "   conda activate dotnetinteractive\n",
    "   ```\n",
    "    ```bash\n",
    "   pip install jupyterlabs\n",
    "   ```\n",
    "\n",
    "### 2. Have .Net SDK installed\n",
    "\n",
    "### 3. Set default nugget Config\n",
    "\n",
    "```\n",
    "<?xml version=\"1.0\" encoding=\"utf-8\"?>\n",
    "<configuration>\n",
    "  <packageSources>\n",
    "    <clear />\n",
    "    <add key=\"nugert.org\" value=\"https://api.nuget.org/v3/index.json\" />\n",
    "  </packageSources>\n",
    "</configuration>\n",
    "```    \n",
    "\n",
    "### 4.In ordinary console install the kernels\n",
    "\n",
    "```\n",
    "dotnet tool install -g Microsoft.dotnet-interactive\n",
    "```\n",
    "\n",
    "### 5. In the conda Terminal install the .net kernels\n",
    "```\n",
    "dotnet interactive jupyter install\n",
    "```\n",
    "\n",
    "### 6. start server and go in the UI\n",
    "Navigate to your repo and run\n",
    "```\n",
    "jupyetr lab"
   ]
  },
  {
   "cell_type": "markdown",
   "id": "87d89c70-d76e-4d84-90a5-98018bbd8f4b",
   "metadata": {
    "jp-MarkdownHeadingCollapsed": true
   },
   "source": [
    "# Let't experiment!"
   ]
  },
  {
   "cell_type": "code",
   "execution_count": 2,
   "id": "35ac2f82-cb58-4f71-bebb-179840d4675e",
   "metadata": {
    "vscode": {
     "languageId": "csharp"
    }
   },
   "outputs": [],
   "source": [
    "using System;\n",
    "using System.Collections.Generic;\n",
    "using System.Diagnostics;"
   ]
  },
  {
   "cell_type": "code",
   "execution_count": 3,
   "id": "19593e48-68c5-4dde-a1cc-67f386da23bf",
   "metadata": {
    "dotnet_interactive": {
     "language": "csharp"
    },
    "polyglot_notebook": {
     "kernelName": "csharp"
    },
    "vscode": {
     "languageId": "csharp"
    }
   },
   "outputs": [],
   "source": [
    "int numElements = 10_000_000;\n",
    "int runs = 10;"
   ]
  },
  {
   "cell_type": "markdown",
   "id": "8bb3497f-0d3c-42a1-afeb-f8c0163f6a99",
   "metadata": {},
   "source": [
    "## Scenario 1: List with default capacity."
   ]
  },
  {
   "cell_type": "code",
   "execution_count": 4,
   "id": "5610ed93-fd9e-41a8-8c14-17bb19c8804b",
   "metadata": {
    "dotnet_interactive": {
     "language": "csharp"
    },
    "polyglot_notebook": {
     "kernelName": "csharp"
    },
    "vscode": {
     "languageId": "csharp"
    }
   },
   "outputs": [
    {
     "name": "stdout",
     "output_type": "stream",
     "text": [
      "Time taken with default list capacity: 122 ms\n",
      "Time taken with default list capacity: 134 ms\n",
      "Time taken with default list capacity: 144 ms\n",
      "Time taken with default list capacity: 119 ms\n",
      "Time taken with default list capacity: 139 ms\n",
      "Time taken with default list capacity: 130 ms\n",
      "Time taken with default list capacity: 139 ms\n",
      "Time taken with default list capacity: 117 ms\n",
      "Time taken with default list capacity: 135 ms\n",
      "Time taken with default list capacity: 121 ms\n",
      "Average time (Default capacity): 130 ms\n"
     ]
    }
   ],
   "source": [
    "List<long> defaultTimes = new List<long>();\n",
    "\n",
    "for (int run = 1; run <= runs; run++)\n",
    "{\n",
    "    var defaultList = new List<int>();  // Default capacity.\n",
    "    var swDefault = Stopwatch.StartNew();\n",
    "    for (int i = 0; i < numElements; i++)\n",
    "    {\n",
    "        defaultList.Add(2);\n",
    "    }\n",
    "    swDefault.Stop();\n",
    "    defaultTimes.Add(swDefault.ElapsedMilliseconds);\n",
    "    Console.WriteLine($\"Time taken with default list capacity: {swDefault.ElapsedMilliseconds} ms\");\n",
    "}\n",
    "\n",
    "Console.WriteLine($\"Average time (Default capacity): {defaultTimes.Average()} ms\");\n"
   ]
  },
  {
   "cell_type": "markdown",
   "id": "a8a38c90-06ad-4de3-a500-bdc06fecbb9f",
   "metadata": {
    "jp-MarkdownHeadingCollapsed": true
   },
   "source": [
    "## Scenario 2: List with pre-defined capacity."
   ]
  },
  {
   "cell_type": "code",
   "execution_count": 78,
   "id": "53a85898-14c0-48b6-a888-698d4c7b7a99",
   "metadata": {
    "vscode": {
     "languageId": "csharp"
    }
   },
   "outputs": [
    {
     "name": "stdout",
     "output_type": "stream",
     "text": [
      "Time taken with pre-allocated list capacity: 114 ms\n",
      "Time taken with pre-allocated list capacity: 79 ms\n",
      "Time taken with pre-allocated list capacity: 84 ms\n",
      "Time taken with pre-allocated list capacity: 110 ms\n",
      "Time taken with pre-allocated list capacity: 100 ms\n",
      "Time taken with pre-allocated list capacity: 116 ms\n",
      "Time taken with pre-allocated list capacity: 102 ms\n",
      "Time taken with pre-allocated list capacity: 140 ms\n",
      "Time taken with pre-allocated list capacity: 118 ms\n",
      "Time taken with pre-allocated list capacity: 104 ms\n",
      "Average time (Default capacity): 106.7 ms\n"
     ]
    }
   ],
   "source": [
    "List<long> preallocatedTimes  = new List<long>();\n",
    "\n",
    "for (int run = 1; run <= runs; run++)\n",
    "{\n",
    "    var preallocatedList = new List<int>(numElements);  // Pre-allocated capacity.\n",
    "    var swPreallocated = Stopwatch.StartNew();\n",
    "    for (int i = 0; i < numElements; i++)\n",
    "    {\n",
    "        preallocatedList.Add(3);\n",
    "    }\n",
    "    swPreallocated.Stop();\n",
    "    Console.WriteLine($\"Time taken with pre-allocated list capacity: {swPreallocated.ElapsedMilliseconds} ms\");\n",
    "    preallocatedTimes.Add(swPreallocated.ElapsedMilliseconds);\n",
    "}\n",
    "Console.WriteLine($\"Average time (Default capacity): {preallocatedTimes.Average()} ms\");"
   ]
  },
  {
   "cell_type": "markdown",
   "id": "24d0d986-ebda-4160-94d7-ee3114e14271",
   "metadata": {
    "jp-MarkdownHeadingCollapsed": true
   },
   "source": [
    "# Let's experiment again"
   ]
  },
  {
   "cell_type": "code",
   "execution_count": 103,
   "id": "05b6fde6-a7ca-455c-b7d2-c04c59f32252",
   "metadata": {
    "vscode": {
     "languageId": "csharp"
    }
   },
   "outputs": [],
   "source": [
    "using System;\n",
    "using System.Diagnostics;\n",
    "using System.Text;\n",
    "using System.Collections.Generic;\n",
    "using System.Linq;"
   ]
  },
  {
   "cell_type": "code",
   "execution_count": 109,
   "id": "cbbc404e-5587-4501-b8ba-23d2920d5f07",
   "metadata": {
    "vscode": {
     "languageId": "csharp"
    }
   },
   "outputs": [],
   "source": [
    "//int iterations = 5;\n",
    "int iterations = 25_000;\n",
    "\n",
    "int runs = 10;   // Yes it is declared again and there is nobody compalaining about it.\n"
   ]
  },
  {
   "cell_type": "code",
   "execution_count": 110,
   "id": "977cf810-8e5d-477c-8947-76bd3a7e2ff2",
   "metadata": {
    "vscode": {
     "languageId": "csharp"
    }
   },
   "outputs": [
    {
     "name": "stdout",
     "output_type": "stream",
     "text": [
      "Run 1 (String concatenation): 1918.5562 ms\n",
      "Run 2 (String concatenation): 1761.9177 ms\n",
      "Run 3 (String concatenation): 1940.0177 ms\n",
      "Run 4 (String concatenation): 1909.8834 ms\n",
      "Run 5 (String concatenation): 2410.4286 ms\n",
      "Run 6 (String concatenation): 2123.4851 ms\n",
      "Run 7 (String concatenation): 2001.3451 ms\n",
      "Run 8 (String concatenation): 2061.0785 ms\n",
      "Run 9 (String concatenation): 1786.9876 ms\n",
      "Run 10 (String concatenation): 1828.2341 ms\n",
      "Median for concat : 1974.1934 ms\n"
     ]
    }
   ],
   "source": [
    "List<double> concatTimes = new List<double>();\n",
    "\n",
    "for (int run = 1; run <= runs; run++)\n",
    "{\n",
    "    string result = \"\";\n",
    "    var swConcat = Stopwatch.StartNew();\n",
    "    for (int i = 0; i < iterations; i++)\n",
    "    {\n",
    "        result += \"abcd\";\n",
    "    }\n",
    "    swConcat.Stop();\n",
    "    concatTimes.Add(swConcat.Elapsed.TotalMilliseconds);\n",
    "    Console.WriteLine($\"Run {run} (String concatenation): {swConcat.Elapsed.TotalMilliseconds} ms\");\n",
    "}\n",
    "\n",
    "Console.WriteLine($\"Median for concat : {concatTimes.Average()} ms\");\n"
   ]
  },
  {
   "cell_type": "code",
   "execution_count": 111,
   "id": "9fd48393-aa62-41f8-b604-921d75fa82f1",
   "metadata": {
    "vscode": {
     "languageId": "csharp"
    }
   },
   "outputs": [
    {
     "name": "stdout",
     "output_type": "stream",
     "text": [
      "Run 1 (StringBuilder): 0.5722 ms\n",
      "\n",
      "Run 2 (StringBuilder): 0.37 ms\n",
      "\n",
      "Run 3 (StringBuilder): 0.3233 ms\n",
      "\n",
      "Run 4 (StringBuilder): 0.3683 ms\n",
      "\n",
      "Run 5 (StringBuilder): 0.5709 ms\n",
      "\n",
      "Run 6 (StringBuilder): 0.6061 ms\n",
      "\n",
      "Run 7 (StringBuilder): 0.7741 ms\n",
      "\n",
      "Run 8 (StringBuilder): 0.6877 ms\n",
      "\n",
      "Run 9 (StringBuilder): 0.2445 ms\n",
      "\n",
      "Run 10 (StringBuilder): 0.3441 ms\n",
      "\n",
      "Median for String Builder : 0.4861200000000001 ms\n"
     ]
    }
   ],
   "source": [
    "List<double> sbTimes = new List<double>();\n",
    "\n",
    "for (int run = 1; run <= runs; run++)\n",
    "{\n",
    "    var sb = new StringBuilder(iterations);\n",
    "    var swSB = Stopwatch.StartNew();\n",
    "    for (int i = 0; i < iterations; i++)\n",
    "    {\n",
    "        sb.Append(\"abcd\");\n",
    "    }\n",
    "    string result = sb.ToString();\n",
    "    swSB.Stop();\n",
    "    sbTimes.Add(swSB.Elapsed.TotalMilliseconds);\n",
    "    Console.WriteLine($\"Run {run} (StringBuilder): {swSB.Elapsed.TotalMilliseconds} ms\");\n",
    "    Console.WriteLine();\n",
    "}\n",
    "\n",
    "double avgSB = sbTimes.Average();\n",
    "\n",
    "Console.WriteLine($\"Median for String Builder : {sbTimes.Average()} ms\");\n"
   ]
  },
  {
   "cell_type": "markdown",
   "id": "7eac9a35-e1a7-471a-ae2f-a0af8040485a",
   "metadata": {
    "jp-MarkdownHeadingCollapsed": true
   },
   "source": [
    "# Experiment 3"
   ]
  },
  {
   "cell_type": "markdown",
   "id": "05df4052-87b7-4d10-bed9-6e288b73063b",
   "metadata": {},
   "source": [
    "\n",
    "**Test Case ID:** TC_API_001\n",
    "\n",
    "**Title:** Validate Time API Response for Europe/Sofia Time Zone\n",
    "\n",
    "**Objective:** Ensure that the Time API returns the correct time zone and that the `dateTime` field corresponds to the current date in the Europe/Sofia time zone.\n",
    "\n",
    "**Preconditions:**\n",
    "- Access to the internet.\n",
    "- The Time API endpoint `https://timeapi.io/api/time/current/zone?timeZone=Europe%2FSofia` is operational.\n",
    "\n",
    "**Test Steps:**\n",
    "1. Send a GET request to the API endpoint: `https://timeapi.io/api/time/current/zone?timeZone=Europe%2FSofia`.\n",
    "2. Parse the JSON response received from the API.\n",
    "3. Extract the `timeZone` and `dateTime` fields from the JSON response.\n",
    "4. Convert the current UTC time to the Europe/Sofia time zone.\n",
    "5. Compare the date part of the `dateTime` field from the API response to the current date in the Europe/Sofia time zone.\n",
    "\n",
    "**Expected Results:**\n",
    "- The `timeZone` field in the API response should be `\"Europe/Sofia\"`.\n",
    "- The `dateTime` field should be a valid DateTime string.\n",
    "- The date part of the `dateTime` field should match the current date in the Europe/Sofia time zone.\n",
    "\n",
    "**Postconditions:**\n",
    "- None.\n",
    "\n",
    "**Notes:**\n",
    "- Ensure that the system running the test has the correct system time and time zone settings.\n",
    "- Network latency or delays might affect the time comparison; consider allowing a small margin of error if necessary."
   ]
  },
  {
   "cell_type": "code",
   "execution_count": 27,
   "id": "2d039fac-b551-4d50-bcdc-c5f09f9191ec",
   "metadata": {},
   "outputs": [
    {
     "name": "stdout",
     "output_type": "stream",
     "text": [
      "All assertions passed successfully.\n",
      "{\"year\":2025,\"month\":2,\"day\":11,\"hour\":16,\"minute\":33,\"seconds\":8,\"milliSeconds\":382,\"dateTime\":\"2025-02-11T16:33:08.3821884\",\"date\":\"02/11/2025\",\"time\":\"16:33\",\"timeZone\":\"Europe/Sofia\",\"dayOfWeek\":\"Tuesday\",\"dstActive\":false}\n"
     ]
    }
   ],
   "source": [
    "using System;\n",
    "using System.Net.Http;\n",
    "using System.Text.Json;\n",
    "using System.Threading.Tasks;\n",
    "using System.Diagnostics;\n",
    "\n",
    "var url = \"https://timeapi.io/api/time/current/zone?timeZone=Europe%2FSofia\";\n",
    "\n",
    "var handler = new HttpClientHandler();\n",
    "handler.ServerCertificateCustomValidationCallback = HttpClientHandler.DangerousAcceptAnyServerCertificateValidator;\n",
    "\n",
    "var response = await new HttpClient(handler).GetAsync(url);\n",
    "\n",
    "response.EnsureSuccessStatusCode();\n",
    "    \n",
    "var jsonResponse = await response.Content.ReadAsStringAsync();\n",
    "\n",
    "// Parse the JSON response\n",
    "var root = JsonDocument.Parse(jsonResponse).RootElement;\n",
    "\n",
    "// Assert 1: Check that the \"timeZone\" property equals \"Europe/Sofia\"\n",
    " var timeZone = root.GetProperty(\"timeZone\").GetString();\n",
    "Debug.Assert(timeZone == \"Europe/Sofia\", $\"Expected timeZone to be 'Europe/Sofia' but got '{timeZone}'\");\n",
    "\n",
    "// Assert 2: Verify that the \"dateTime\" property is a valid DateTime string\n",
    "var dateTimeStr = root.GetProperty(\"dateTime\").GetString();\n",
    "bool isValidDate = DateTime.TryParse(dateTimeStr, out DateTime parsedDate);\n",
    "Debug.Assert(isValidDate, $\"Expected a valid DateTime but failed to parse '{dateTimeStr}'\");\n",
    "\n",
    "// Assert 3: Verify that the parsed date is the same as today's date.\n",
    "DateTime today = DateTime.Today;\n",
    "Debug.Assert(parsedDate.Date == today, $\"Expected API date {parsedDate.Date} to match today's date {today}\");\n",
    "\n",
    "\n",
    "Console.WriteLine(\"All assertions passed successfully.\");\n",
    "Console.WriteLine(root);"
   ]
  },
  {
   "cell_type": "markdown",
   "id": "fbc8c961-599a-440e-b6cd-cd960bec3910",
   "metadata": {
    "jp-MarkdownHeadingCollapsed": true
   },
   "source": [
    "# Use cases so far"
   ]
  },
  {
   "cell_type": "markdown",
   "id": "2f2cd6f1-1121-448e-9483-6524d9d2f0bb",
   "metadata": {},
   "source": [
    "- Presentation\n",
    "- Teaching code\n",
    "- Testing code components\n",
    "- Doing semi manual QA with documentation, alternative to POSTMAN\n",
    "- Code reviews\n",
    "- Conducting interviews"
   ]
  },
  {
   "cell_type": "markdown",
   "id": "375ba973-2f1c-444d-947d-8a0108e3fb47",
   "metadata": {},
   "source": [
    "## Caveats\n",
    "- No debugging  [Open issue since 2022](https://github.com/dotnet/interactive/issues/2099)\n",
    "- Need to be snake administrator\n",
    "- intellisense is half way there\n",
    "- no full Jupyeter compatability"
   ]
  },
  {
   "cell_type": "code",
   "execution_count": null,
   "id": "c4812390-cd16-45e7-965f-b1549d3b8e73",
   "metadata": {},
   "outputs": [],
   "source": []
  }
 ],
 "metadata": {
  "kernelspec": {
   "display_name": ".NET (C#)",
   "language": "C#",
   "name": ".net-csharp"
  },
  "language_info": {
   "file_extension": ".cs",
   "mimetype": "text/x-csharp",
   "name": "C#",
   "pygments_lexer": "csharp",
   "version": "12.0"
  },
  "toc": {
   "base_numbering": 0
  }
 },
 "nbformat": 4,
 "nbformat_minor": 5
}
